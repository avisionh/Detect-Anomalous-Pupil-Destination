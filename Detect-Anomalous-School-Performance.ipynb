{
 "cells": [
  {
   "cell_type": "markdown",
   "metadata": {},
   "source": [
    "# Unsupervised Anomaly Detection: Schools Performance 2016-17\n",
    "## Objective\n",
    "The focus of this notebook/project is to investigate the use of **unsupervised anomaly detection** methods on **Schools Performance 2016-17** data. We are particularly interested in spotting anomalous pupil destination data. \n",
    "\n",
    "## Definitions\n",
    "The following terms used in this project are defined below:\n",
    "+ **Unsupervised data:** When your data is not labelled. *e.g. If you have income data but you do not know if this data is correct*\n",
    "+ **Anomaly data:** Unusual and typically wrong observations/data points in your data.\n",
    "+ **Unsupervised anomaly detection:** Spotting anomaly observations in your data without any labelled data to tell you whether your predictions are correct.\n",
    "\n",
    "## Data\n",
    "The data for this project comes from the [Schools Performance 2016-17](https://www.compare-school-performance.service.gov.uk/). The data is here very rich and detailed. For the sake of demonstration and simplification., we will only consider a subset of this information, defined below:\n",
    "+ **URN** | Unique reference number for schools\n",
    "+ **LEA** | Local authority, as a code\n",
    "+ **ESTAB** | Establishment number\n",
    "    - *Note that combining the LA and ESTAB fields to give LAESTAB will give us another unique identifer for schools, akin to our URN field*\n",
    "+ **SCHNAME** | School name\n",
    "+ **NFTYPE** | School type\n",
    "    - AC = Sponsored academy\n",
    "    - ACC = Academy converter – mainstream\n",
    "    - AC1619 = Academy 16-19 sponsor led\n",
    "    - ACC1619 = Academy 16-19 converter\n",
    "    - ACCS = Academy converter - special school\n",
    "    - ACS = Sponsored special academy, CTC=City technology college\n",
    "    - CY = Community school\n",
    "    - CYS = Community special school\n",
    "    - F = Free school – mainstream\n",
    "    - FESI = Further Education Sector Institution\n",
    "    - FD = Foundation school\n",
    "    - FDS = Foundation special school\n",
    "    - FS = Free school – special\n",
    "    - FSS = Studio school\n",
    "    - FUTC = UTC (university technical college)\n",
    "    - F1619 = Free school - 16-19\n",
    "    - IND = Independent school\n",
    "    - INDSPEC = Independent special school\n",
    "    - MODFC = College funded by Ministry of Defence\n",
    "    - NMSS = Non-maintained special school\n",
    "    - VA = Voluntary aided school,\n",
    "    - VC = Voluntary controlled school\n",
    "+ **OVERALL_DESTPER** | Percentage of pupils who have been in a sustained education or employment destination for the first two terms, October 2015 to March 2016. \n",
    "+ **PTEALGRP2** | Percentage of eligible pupils with English-as-(an)-language (EAL)\n",
    "+ **PTMOBN** | Percentage of pupils classified as non-mobile\n",
    "+ **PTRWM_EXP** | Percentage of pupils reaching the expected stnadard in reading, writing and maths\n",
    "+ **PSENELST** | Percentage of eligible pupils with special-education-needs (SEN)\n",
    "+ **PTFSM6CLA1A_16** | Percentage of KS2 disdvantaged pupils\n",
    "+ **PNUMFSM** | Percentage of pupils for free-school-meals\n",
    "\n",
    "The anomalous pupil destination data that we are interested in spotting is therefore found within the **OVERALL_DESTPER** field. Note that this information is *provisional* so it is **unlabelled**."
   ]
  },
  {
   "cell_type": "code",
   "execution_count": null,
   "metadata": {
    "collapsed": true
   },
   "outputs": [],
   "source": [
    "# Set-up environment to lock package versions\n"
   ]
  }
 ],
 "metadata": {
  "anaconda-cloud": {},
  "kernelspec": {
   "display_name": "Python [default]",
   "language": "python",
   "name": "python3"
  },
  "language_info": {
   "codemirror_mode": {
    "name": "ipython",
    "version": 3
   },
   "file_extension": ".py",
   "mimetype": "text/x-python",
   "name": "python",
   "nbconvert_exporter": "python",
   "pygments_lexer": "ipython3",
   "version": "3.5.2"
  },
  "varInspector": {
   "cols": {
    "lenName": 16,
    "lenType": 16,
    "lenVar": 40
   },
   "kernels_config": {
    "python": {
     "delete_cmd_postfix": "",
     "delete_cmd_prefix": "del ",
     "library": "var_list.py",
     "varRefreshCmd": "print(var_dic_list())"
    },
    "r": {
     "delete_cmd_postfix": ") ",
     "delete_cmd_prefix": "rm(",
     "library": "var_list.r",
     "varRefreshCmd": "cat(var_dic_list()) "
    }
   },
   "types_to_exclude": [
    "module",
    "function",
    "builtin_function_or_method",
    "instance",
    "_Feature"
   ],
   "window_display": false
  }
 },
 "nbformat": 4,
 "nbformat_minor": 1
}
